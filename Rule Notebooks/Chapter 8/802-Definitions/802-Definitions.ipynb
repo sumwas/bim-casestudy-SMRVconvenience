{
 "cells": [
  {
   "cell_type": "markdown",
   "metadata": {},
   "source": [
    "# Section 802.1 - Definitions\n",
    "## Building Code\n",
    "```\n",
    "The following terms are defined in Chapter 2: \n",
    "\n",
    "EXPANDED VINYL WALL COVERING. \n",
    "\n",
    "FLAME SPREAD. \n",
    "\n",
    "FLAME SPREAD INDEX. \n",
    "\n",
    "INTERIOR FINISH. \n",
    "\n",
    "INTERIOR FLOOR FINISH. \n",
    "\n",
    "INTERIOR FLOOR-WALL BASE. \n",
    "\n",
    "INTERIOR WALL AND CEILING FINISH. \n",
    "\n",
    "SITE-FABRICATED STRETCH SYSTEM. \n",
    "\n",
    "SMOKE-DEVELOPED INDEX. \n",
    "\n",
    "TRIM. \n",
    "```\n",
    "This section is considered: Understood\n",
    "\n",
    "The definitions are understood."
   ]
  }
 ],
 "metadata": {
  "language_info": {
   "name": "python"
  }
 },
 "nbformat": 4,
 "nbformat_minor": 2
}
