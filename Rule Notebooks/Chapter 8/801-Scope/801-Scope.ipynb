{
 "cells": [
  {
   "cell_type": "markdown",
   "metadata": {},
   "source": [
    "# Section 801.1 - Scope\n",
    "## Building Code\n",
    "`The provisions of this chapter shall govern the use of materials used as interior finishes, trim and decorative materials.`\n",
    "\n",
    "This section is considered: Understood\n",
    "\n",
    "It is understood that the provisions of this chapter govern the use of materials used as interior finishes, trim, and decorative materials."
   ]
  }
 ],
 "metadata": {
  "language_info": {
   "name": "python"
  }
 },
 "nbformat": 4,
 "nbformat_minor": 2
}
