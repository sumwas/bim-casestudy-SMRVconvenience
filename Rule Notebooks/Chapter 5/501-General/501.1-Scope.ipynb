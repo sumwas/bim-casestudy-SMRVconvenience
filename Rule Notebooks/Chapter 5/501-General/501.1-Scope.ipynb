{
 "cells": [
  {
   "cell_type": "markdown",
   "metadata": {},
   "source": [
    "# Section 501.1 - Scope\n",
    "\n",
    "## Building Code\n",
    "`The provisions of this chapter control the height and area of structures hereafter erected and additions to existing structures.`\n",
    "\n",
    "This section is considered: Understood\n",
    "\n",
    "This section does not have any direct requirements to verify. Please refer to the subsections for analysis results.\n",
    "\n",
    "\n"
   ]
  }
 ],
 "metadata": {
  "language_info": {
   "name": "python"
  }
 },
 "nbformat": 4,
 "nbformat_minor": 2
}
