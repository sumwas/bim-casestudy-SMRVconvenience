{
 "cells": [
  {
   "cell_type": "markdown",
   "metadata": {},
   "source": [
    "# Section 506.1.2 - Special provisions\n",
    "## Building Code\n",
    "`The special provisions of Section 510 permit the use of special conditions that are exempt from, or modify, the specific requirements of this chapter regarding the allowable areas of buildings based on the occupancy classification and type of construction, provided the special condition complies with the provisions specified in Section 510.`\n",
    "\n",
    "This section is considered: Passed\n",
    "\n",
    "It is understood that Section 510 permits the use of special conditions to alter the allowable area for the building.\n"
   ]
  }
 ],
 "metadata": {
  "kernelspec": {
   "display_name": "Python 3",
   "language": "python",
   "name": "python3"
  },
  "language_info": {
   "codemirror_mode": {
    "name": "ipython",
    "version": 3
   },
   "file_extension": ".py",
   "mimetype": "text/x-python",
   "name": "python",
   "nbconvert_exporter": "python",
   "pygments_lexer": "ipython3",
   "version": "3.11.5"
  }
 },
 "nbformat": 4,
 "nbformat_minor": 2
}
