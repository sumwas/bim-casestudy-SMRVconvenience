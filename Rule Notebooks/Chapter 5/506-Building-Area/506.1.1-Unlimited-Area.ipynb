{
 "cells": [
  {
   "cell_type": "markdown",
   "metadata": {},
   "source": [
    "# Section 506.1.1 - Unlimited area buildings\n",
    "\n",
    "## Building Code\n",
    "`Unlimited area buildings shall be designed in accordance with Section 507. `\n",
    "\n",
    "This section is considered: Understood\n",
    "\n",
    "It is understood that unlimited area buildings are to be designed in accordance with Section 507"
   ]
  }
 ],
 "metadata": {
  "language_info": {
   "name": "python"
  }
 },
 "nbformat": 4,
 "nbformat_minor": 2
}
