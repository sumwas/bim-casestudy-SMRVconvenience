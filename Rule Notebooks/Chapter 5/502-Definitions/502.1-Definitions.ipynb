{
 "cells": [
  {
   "cell_type": "markdown",
   "metadata": {},
   "source": [
    "# Section 502.1 - Definitions\n",
    "# Building Code \n",
    "```\n",
    "The following terms are defined in Chapter 2:\n",
    "- AREA, BUILDING. \n",
    "- BASEMENT. \n",
    "- EQUIPMENT PLATFORM. \n",
    "- GRADE PLANE. \n",
    "- HEIGHT, BUILDING. \n",
    "- MEZZANINE.\n",
    "```\n",
    "This section is considered: Understood\n",
    "\n",
    "This section does not have any direct requirements to verify. Please refer to the subsections for analysis results.\n"
   ]
  }
 ],
 "metadata": {
  "language_info": {
   "name": "python"
  }
 },
 "nbformat": 4,
 "nbformat_minor": 2
}
