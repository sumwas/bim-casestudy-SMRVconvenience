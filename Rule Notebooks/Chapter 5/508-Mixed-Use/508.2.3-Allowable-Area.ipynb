{
 "cells": [
  {
   "cell_type": "markdown",
   "metadata": {},
   "source": [
    "# Section 508.2.3 - Allowable building area\n",
    "## Building Code\n",
    "`The allowable area of the building shall be based on the applicable provisions of Section 506 for the main occupancy of the building. Aggregate accessory occupancies shall not occupy more than 10 percent of the floor area of the story in which they are located and shall not exceed the tabular values for nonsprinklered buildings in Table 506.2 for each such accessory occupancy `\n",
    "\n",
    "This section is considered: Not Applicable\n",
    "\n",
    "This section does not apply as there are no accessory occupancies in the building\n"
   ]
  }
 ],
 "metadata": {
  "language_info": {
   "name": "python"
  }
 },
 "nbformat": 4,
 "nbformat_minor": 2
}
