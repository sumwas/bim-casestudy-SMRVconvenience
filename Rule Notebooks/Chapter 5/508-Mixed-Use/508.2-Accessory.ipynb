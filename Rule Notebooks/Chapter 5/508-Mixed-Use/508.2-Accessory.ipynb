{
 "cells": [
  {
   "cell_type": "markdown",
   "metadata": {},
   "source": [
    "# Section 508.2 - Accessory occupancies\n",
    "## Building Code\n",
    "`Accessory occupancies are those occupancies that are ancillary to the main occupancy of the building or portion thereof. Accessory occupancies shall comply with the provisions of Sections 508.2.1 through 508.2.4.`\n",
    "\n",
    "This section is considered: Not Applicable\n",
    "\n",
    "There are no accessory occupancies, therefore this section does not apply.\n",
    "\n",
    "Accessory occupancies are those occupancies that are ancillary to the main occupancy of the building or portion thereof. Accessory occupancies shall comply with the provisions of Sections 508.2.1 through 508.2.4. \n"
   ]
  }
 ],
 "metadata": {
  "language_info": {
   "name": "python"
  }
 },
 "nbformat": 4,
 "nbformat_minor": 2
}
