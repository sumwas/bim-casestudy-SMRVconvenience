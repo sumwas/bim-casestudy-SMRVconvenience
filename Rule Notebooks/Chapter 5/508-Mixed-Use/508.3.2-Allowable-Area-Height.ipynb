{
 "cells": [
  {
   "cell_type": "markdown",
   "metadata": {},
   "source": [
    "# Section 508.3.2 - Allowable building area and height\n",
    "## Building Code\n",
    "`The allowable building area and height of the building or portion thereof shall be based on the most restrictive allowances for the occupancy groups under consideration for the type of construction of the building in accordance with Section 503.1.`\n",
    "\n",
    "This section is considered: Understood\n",
    "\n",
    "It is understood that: \n",
    "\n",
    "• The allowable area calculations of Section 506 were based on the most restrictive occupancy of each separation group. Refer to Section 506 for details.\n",
    "\n",
    "• The allowable height calculations of Section 504.2 included verification of the most restrictive occupancy of each separation group. Refer to Section 504.2 for details.\n",
    "\n"
   ]
  }
 ],
 "metadata": {
  "language_info": {
   "name": "python"
  }
 },
 "nbformat": 4,
 "nbformat_minor": 2
}
