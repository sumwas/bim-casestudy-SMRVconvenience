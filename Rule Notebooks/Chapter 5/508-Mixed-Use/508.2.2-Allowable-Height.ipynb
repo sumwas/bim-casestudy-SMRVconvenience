{
 "cells": [
  {
   "cell_type": "markdown",
   "metadata": {},
   "source": [
    "# Section 508.2.2 - Allowable building height\n",
    "## Building Code\n",
    "`The allowable height and number of stories of the building containing accessory occupancies shall be in accordance with Section 504 for the main occupancy of the building. `\n",
    "\n",
    "This section is considered: Not Applicable\n",
    "\n",
    "This section does not apply as there are no accessory occupancies in the building\n"
   ]
  }
 ],
 "metadata": {
  "language_info": {
   "name": "python"
  }
 },
 "nbformat": 4,
 "nbformat_minor": 2
}
