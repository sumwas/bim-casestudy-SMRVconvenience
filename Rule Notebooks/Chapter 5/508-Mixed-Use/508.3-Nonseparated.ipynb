{
 "cells": [
  {
   "cell_type": "markdown",
   "metadata": {},
   "source": [
    "# Section 508.3 - Nonseparated occupancies\n",
    "## Building Code\n",
    "`Buildings or portions of buildings that comply with the provisions of this section shall be considered as nonseparated occupancies.`\n",
    "This section is considered: Passed\n",
    "\n",
    "It is understood that buildings or portions of buildings that comply with the provisions of this section are considered as nonseparated occupancies"
   ]
  }
 ],
 "metadata": {
  "language_info": {
   "name": "python"
  }
 },
 "nbformat": 4,
 "nbformat_minor": 2
}
