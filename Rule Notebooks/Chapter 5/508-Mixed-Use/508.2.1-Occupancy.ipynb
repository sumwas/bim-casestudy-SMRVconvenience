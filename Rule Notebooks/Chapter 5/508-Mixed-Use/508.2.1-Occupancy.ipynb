{
 "cells": [
  {
   "cell_type": "markdown",
   "metadata": {},
   "source": [
    "# Section 508.2.1 - Occupancy classification\n",
    "## Building Code\n",
    "`Accessory occupancies shall be individually classified in accordance with Section 302.1. The requirements of this code shall apply to each portion of the building based on the occupancy classification of that space.`\n",
    "\n",
    "This section is considered: Not Applicable\n",
    "\n",
    "This section does not apply as there are no accessory occupancies in the building\n"
   ]
  }
 ],
 "metadata": {
  "language_info": {
   "name": "python"
  }
 },
 "nbformat": 4,
 "nbformat_minor": 2
}
