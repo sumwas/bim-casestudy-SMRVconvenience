{
 "cells": [
  {
   "cell_type": "markdown",
   "metadata": {},
   "source": [
    "# Section 508.1 - General\n",
    "## Building Code\n",
    "``` \n",
    "Each portion of a building shall be individually classified in accordance with Section 302.1. Where a building contains more than one occupancy group, the building or portion thereof shall comply with the applicable provisions of Section 508.2, 508.3 or 508.4, or a combination of these sections. \n",
    "\n",
    "Exceptions: \n",
    "\n",
    " 1. Occupancies separated in accordance with Section 510. \n",
    "\n",
    " 2. Where required by Table 415.6.2, areas of Group H-1, H-2 and H-3 occupancies shall be located in a detached building or structure. \n",
    "\n",
    " 3. Uses within live/work units, complying with Section 419, are not considered separate occupancies. \n",
    "```\n",
    "\n",
    "This section is considered: Understood\n",
    "\n",
    "It is understood that each portion of the building is individually classified in accordance with Section 302.1.\n",
    "\n",
    "The exceptions listed above are not implemented.\n"
   ]
  }
 ],
 "metadata": {
  "language_info": {
   "name": "python"
  }
 },
 "nbformat": 4,
 "nbformat_minor": 2
}
