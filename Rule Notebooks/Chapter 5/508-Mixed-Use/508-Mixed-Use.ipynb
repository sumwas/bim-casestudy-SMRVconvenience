{
 "cells": [
  {
   "cell_type": "markdown",
   "metadata": {},
   "source": [
    "# Section 508 - MIXED USE AND OCCUPANCY\n",
    "\n",
    "This section is considered: Passed\n",
    "\n",
    "It is understood that this section applies as the building is Mixed Use and Occupancy.\n",
    "\n"
   ]
  }
 ],
 "metadata": {
  "language_info": {
   "name": "python"
  }
 },
 "nbformat": 4,
 "nbformat_minor": 2
}
