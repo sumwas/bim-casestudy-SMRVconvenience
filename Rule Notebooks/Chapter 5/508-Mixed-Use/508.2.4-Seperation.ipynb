{
 "cells": [
  {
   "cell_type": "markdown",
   "metadata": {},
   "source": [
    "# Section 508.2.4 - Separation of occupancies\n",
    "## Building Code\n",
    "```\n",
    "No separation is required between accessory occupancies and the main occupancy. \n",
    "\n",
    "Exceptions: \n",
    "\n",
    " 1. Group H-2, H-3, H-4 and H-5 occupancies shall be separated from all other occupancies in accordance with Section 508.4. \n",
    "\n",
    " 2. Group I-1, R-1, R-2 and R-3 dwelling units and sleeping units  shall be separated from other dwelling or sleeping units and from accessory occupancies contiguous to them in accordance with the requirements of Section 420. \n",
    "```\n",
    "\n",
    "This section is considered: Not Applicable\n",
    "\n",
    "This section does not apply as there are no accessory occupancies in the building\n"
   ]
  }
 ],
 "metadata": {
  "language_info": {
   "name": "python"
  }
 },
 "nbformat": 4,
 "nbformat_minor": 2
}
