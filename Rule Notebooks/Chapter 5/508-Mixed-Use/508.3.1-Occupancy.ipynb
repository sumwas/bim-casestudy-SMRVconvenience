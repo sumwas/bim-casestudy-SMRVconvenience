{
 "cells": [
  {
   "cell_type": "markdown",
   "metadata": {},
   "source": [
    "# Section 508.3.1 - Occupancy classification\n",
    "## Building Code\n",
    "`Nonseparated occupancies shall be individually classified in accordance with Section 302.1. The requirements of this code shall apply to each portion of the building based on the occupancy classification of that space. In addition, the most restrictive provisions of Chapter 9 that apply to the nonseparated occupancies shall apply to the total nonseparated occupancy area. Where nonseparated occupancies occur in a high-rise building, the most restrictive requirements of Section 403 that apply to the nonseparated occupancies shall apply throughout the high-rise building.`\n",
    "\n",
    "This section is considered: Understood\n",
    "\n",
    "It is understood that: \n",
    "• Nonseparated occupancies shall be individually classified. All nonseparated occupancies within each separation group are individually classified.\n",
    "\n",
    "• The requirements of this code applies to each portion of the building based on the occupancy classification of that space.\n",
    "\n",
    "• The most restrictive provisions of Chapter 9 that apply to each nonseparated area applies to the total nonseparated occupancy area.\n",
    "\n",
    "• The most restrictive provisions of Section 403 apply to the nonseparated occupancies throughout the high-rise building\n"
   ]
  }
 ],
 "metadata": {
  "language_info": {
   "name": "python"
  }
 },
 "nbformat": 4,
 "nbformat_minor": 2
}
