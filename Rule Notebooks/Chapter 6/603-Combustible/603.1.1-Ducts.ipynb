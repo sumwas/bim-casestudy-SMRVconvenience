{
 "cells": [
  {
   "cell_type": "markdown",
   "metadata": {},
   "source": [
    "# Section 603.1.1 - Ducts\n",
    "\n",
    "## Building Code\n",
    "\n",
    "`The use of nonmetallic ducts shall be permitted where installed in accordance with the limitations of the International Mechanical Code.`\n",
    "\n",
    "This section is considered: Understood\n",
    "\n",
    "It is understood that nonmetallic ducts are to be permitted where installed in accordance with the limitations of the International Mechanical Code.\n"
   ]
  }
 ],
 "metadata": {
  "language_info": {
   "name": "python"
  }
 },
 "nbformat": 4,
 "nbformat_minor": 2
}
