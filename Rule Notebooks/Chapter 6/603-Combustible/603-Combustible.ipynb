{
 "cells": [
  {
   "cell_type": "markdown",
   "metadata": {},
   "source": [
    "# Section 603 - COMBUSTIBLE MATERIAL IN TYPES I AND II CONSTRUCTION\n",
    "\n",
    "## Building Code\n",
    "`The section description is intentionally blank. `\n",
    "\n",
    "This section is considered: Understood\n",
    "\n",
    "This section does not have any direct requirements to verify. Please refer to the subsections for analysis results."
   ]
  }
 ],
 "metadata": {
  "language_info": {
   "name": "python"
  }
 },
 "nbformat": 4,
 "nbformat_minor": 2
}
