{
 "cells": [
  {
   "cell_type": "markdown",
   "metadata": {},
   "source": [
    "# Section 603.1.2 - Piping\n",
    "\n",
    "## Building Code\n",
    "`The use of combustible piping materials shall be permitted where installed in accordance with the limitations of the International Mechanical Code and the International Plumbing Code.`\n",
    "\n",
    "This section is considered: Understood\n",
    "\n",
    "It is understood that the use of combustible piping materials is permitted where installed in accordance with the limitations of the International Mechanical Code and the International Plumbing Code."
   ]
  }
 ],
 "metadata": {
  "language_info": {
   "name": "python"
  }
 },
 "nbformat": 4,
 "nbformat_minor": 2
}
