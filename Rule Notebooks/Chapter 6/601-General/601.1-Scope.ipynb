{
 "cells": [
  {
   "cell_type": "markdown",
   "metadata": {},
   "source": [
    "# Section 601.1 - Scope\n",
    "\n",
    "## Building Code\n",
    "`The provisions of this chapter shall control the classification of buildings as to type of construction. `\n",
    "\n",
    "This section is considered: Understood\n",
    "\n",
    "It is understood that the provisions in this chapter control the classifications of buildings as to the type of construction. "
   ]
  }
 ],
 "metadata": {
  "language_info": {
   "name": "python"
  }
 },
 "nbformat": 4,
 "nbformat_minor": 2
}
