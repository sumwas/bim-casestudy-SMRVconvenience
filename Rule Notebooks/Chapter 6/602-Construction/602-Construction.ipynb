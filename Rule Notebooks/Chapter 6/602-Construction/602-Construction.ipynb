{
 "cells": [
  {
   "cell_type": "markdown",
   "metadata": {},
   "source": [
    "# Section 602 - CONSTRUCTION CLASSIFICATION\n",
    "\n",
    "## Building Code\n",
    "\n",
    "### TABLE 602 FIRE-RESISTANCE RATING REQUIREMENTS FOR EXTERIOR WALLS BASED ON FIRE SEPARATION DISTANCEa, d, g "
   ]
  },
  {
   "cell_type": "code",
   "execution_count": 1,
   "metadata": {},
   "outputs": [],
   "source": [
    "import json \n",
    "# Load the table from the JSON file\n",
    "with open('table_602.json', 'r') as f:\n",
    "    table_602 = json.load(f)"
   ]
  },
  {
   "cell_type": "code",
   "execution_count": 2,
   "metadata": {},
   "outputs": [],
   "source": [
    "import sys\n",
    "import os\n",
    "\n",
    "# Add the path to the Rule Notebooks folder to the system path\n",
    "sys.path.append(os.path.abspath('../..'))\n",
    "\n",
    "# Import the find_value function from table_lookup.py\n",
    "from ruleFunctions import find_value, check_value, get_building_info, create_scrollable_table"
   ]
  },
  {
   "cell_type": "code",
   "execution_count": 3,
   "metadata": {},
   "outputs": [
    {
     "name": "stdout",
     "output_type": "stream",
     "text": [
      "Type V A R-1 S 13 4\n"
     ]
    }
   ],
   "source": [
    "# Define the SPARQL endpoint URL and query file path\n",
    "endpoint_url = \"http://localhost:3030/SmartReviewHotel/sparql\"\n",
    "\n",
    "# Call the function to get the building information\n",
    "main_construction_type, subtype, occupancy_group, sprinkler_system, sprinkler_type, storey_num = get_building_info(endpoint_url)\n",
    "print(main_construction_type, subtype, occupancy_group, sprinkler_system, sprinkler_type, storey_num)"
   ]
  },
  {
   "cell_type": "code",
   "execution_count": 4,
   "metadata": {},
   "outputs": [],
   "source": [
    "def get_range(distance):\n",
    "    if distance < 5:\n",
    "        return \"< 5\"\n",
    "    elif 5 <= distance < 10:\n",
    "        return \"5 <= X < 10\"\n",
    "    elif 10 <= distance < 30:\n",
    "        return \"10 <= X < 30\"\n",
    "    else:\n",
    "        return \"<= 30\"\n",
    "\n",
    "def adjust_construction_type(distance, main_construction_type):\n",
    "    # Adjust the construction type based on the distance and provided type\n",
    "    adjusted_construction_type = main_construction_type\n",
    "    if distance < 5 or distance > 30:\n",
    "        adjusted_construction_type = \"All\"\n",
    "    elif 5 <= distance < 10 and main_construction_type not in [\"IA\"]:\n",
    "        adjusted_construction_type = \"Others\"\n",
    "    elif 10 <= distance < 30 and main_construction_type not in [\"IA\", \"IB\", \"IIB\", \"VB\"]:\n",
    "        adjusted_construction_type = \"Others\"\n",
    "    return adjusted_construction_type\n",
    "\n",
    "def get_value_from_lookup(distance, construction_type, occupancy_group):\n",
    "    range_value = get_range(distance)\n",
    "    for entry in table_602[\"FIRE_SEPARATION_DISTANCE\"]:\n",
    "        if entry[\"range\"] == range_value and entry[\"TYPE_OF_CONSTRUCTION\"] == construction_type:\n",
    "            return entry.get(f\"OCCUPANCY_GROUP_{occupancy_group}\", None)\n",
    "    return None"
   ]
  },
  {
   "cell_type": "code",
   "execution_count": 5,
   "metadata": {},
   "outputs": [],
   "source": [
    "from SPARQLWrapper import SPARQLWrapper, JSON\n",
    "\n",
    "sparql = SPARQLWrapper(endpoint_url)\n",
    "with open(\"..\\..\\..\\SPARQL\\exteriorNonbearing.sparql\", \"r\") as file:\n",
    "    sparql_query = file.read()\n",
    "\n",
    "# Set the SPARQL query and the return format\n",
    "sparql.setQuery(sparql_query)\n",
    "sparql.setReturnFormat(JSON)\n",
    "\n",
    "# Execute the query and get the results in JSON format\n",
    "results = sparql.query().convert()\n",
    "\n",
    "# Process SPARQL results\n",
    "for result in results[\"results\"][\"bindings\"]:\n",
    "    fire_separation_distance = float(result[\"smrvExteriorFireSeparationDistance_property_simple\"][\"value\"])\n",
    "    main_construction_type = result[\"batid\"][\"value\"]  # Assuming this is where the type is stored\n",
    "    \n",
    "    # Adjust construction type based on distance and provided type\n",
    "    adjusted_construction_type = adjust_construction_type(fire_separation_distance, main_construction_type)\n",
    "    \n",
    "    occupancy_group = \"A\"  # Example occupancy group; adjust as needed\n",
    "    \n",
    "    # Get the value from lookup data\n",
    "    value = get_value_from_lookup(fire_separation_distance, adjusted_construction_type, occupancy_group)\n",
    "    \n",
    "    print(f\"Wall ID: {result['wall']['value']}\")\n",
    "    print(f\"Fire Rating: {result['fireRating']['value']}\")\n",
    "    print(f\"Fire Separation Distance: {fire_separation_distance} feet\")\n",
    "    print(f\"Adjusted Construction Type: {adjusted_construction_type}\")\n",
    "    print(f\"Value for Occupancy Group {occupancy_group}: {value}\")\n",
    "    print()  # Print a blank line for readability\n"
   ]
  },
  {
   "cell_type": "code",
   "execution_count": 6,
   "metadata": {},
   "outputs": [
    {
     "name": "stdout",
     "output_type": "stream",
     "text": [
      "{'head': {'vars': ['wall', 'batid', 'fireRating', 'fireSeparationDistance']}, 'results': {'bindings': []}}\n"
     ]
    }
   ],
   "source": [
    "print(results)"
   ]
  }
 ],
 "metadata": {
  "kernelspec": {
   "display_name": "Python 3",
   "language": "python",
   "name": "python3"
  },
  "language_info": {
   "codemirror_mode": {
    "name": "ipython",
    "version": 3
   },
   "file_extension": ".py",
   "mimetype": "text/x-python",
   "name": "python",
   "nbconvert_exporter": "python",
   "pygments_lexer": "ipython3",
   "version": "3.11.5"
  }
 },
 "nbformat": 4,
 "nbformat_minor": 2
}
