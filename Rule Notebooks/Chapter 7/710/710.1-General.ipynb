{
 "cells": [
  {
   "cell_type": "markdown",
   "metadata": {},
   "source": [
    "# Section 710.1 - General\n",
    "## Building Code\n",
    "`Smoke partitions installed as required elsewhere in the code shall comply with this section.`\n",
    "\n",
    "This section is considered: Understood\n",
    "\n",
    "It is understood that smoke partitions installed as required elsewhere in the code are to comply with this section."
   ]
  }
 ],
 "metadata": {
  "language_info": {
   "name": "python"
  }
 },
 "nbformat": 4,
 "nbformat_minor": 2
}
