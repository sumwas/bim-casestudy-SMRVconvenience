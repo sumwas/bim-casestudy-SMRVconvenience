{
 "cells": [
  {
   "cell_type": "markdown",
   "metadata": {},
   "source": [
    "# Section 722.1.1 - Definitions\n",
    "## Building Code\n",
    "```\n",
    "The following terms are defined in Chapter 2:\n",
    "\n",
    "CERAMIC FIBER BLANKET.\n",
    "\n",
    "CONCRETE, CARBONATE AGGREGATE.\n",
    "\n",
    "CONCRETE, CELLULAR.\n",
    "\n",
    "CONCRETE, LIGHTWEIGHT AGGREGATE.\n",
    "\n",
    "CONCRETE, PERLITE.\n",
    "\n",
    "CONCRETE, SAND-LIGHTWEIGHT.\n",
    "\n",
    "CONCRETE, SILICEOUS AGGREGATE.\n",
    "\n",
    "CONCRETE, VERMICULITE.\n",
    "\n",
    "GLASS FIBERBOARD.\n",
    "\n",
    "MINERAL BOARD.\n",
    "```\n",
    "\n",
    "This section is considered: Understood\n",
    "\n",
    "The definitions listed are understood."
   ]
  },
  {
   "cell_type": "code",
   "execution_count": null,
   "metadata": {
    "vscode": {
     "languageId": "plaintext"
    }
   },
   "outputs": [],
   "source": [
    "var = 10 "
   ]
  }
 ],
 "metadata": {
  "language_info": {
   "name": "python"
  }
 },
 "nbformat": 4,
 "nbformat_minor": 2
}
