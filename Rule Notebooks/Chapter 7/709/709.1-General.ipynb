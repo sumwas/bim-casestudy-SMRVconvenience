{
 "cells": [
  {
   "cell_type": "markdown",
   "metadata": {},
   "source": [
    "# Section 709.1 - General\n",
    "## Building Code\n",
    "`Vertical and horizontal smoke barriers shall comply with this section.`\n",
    "\n",
    "This section is considered: Understood\n",
    "\n",
    "It is understood that vertical and horizontal smoke barriers are to comply with this section."
   ]
  }
 ],
 "metadata": {
  "language_info": {
   "name": "python"
  }
 },
 "nbformat": 4,
 "nbformat_minor": 2
}
