{
 "cells": [
  {
   "cell_type": "markdown",
   "metadata": {},
   "source": [
    "# Section 716.1 - General\n",
    "## Building Code\n",
    "`Opening protectives required by other sections of this code shall comply with the provisions of this section.`\n",
    "\n",
    "This section is considered: Understood\n",
    "\n",
    "It is understood that opening protectives required by other sections of this code are to comply with the provisions of this section."
   ]
  }
 ],
 "metadata": {
  "language_info": {
   "name": "python"
  }
 },
 "nbformat": 4,
 "nbformat_minor": 2
}
