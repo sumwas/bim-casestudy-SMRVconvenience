{
 "cells": [
  {
   "cell_type": "markdown",
   "metadata": {},
   "source": [
    "# Section 702 - DEFINITIONS\n",
    "\n",
    "# Building Code\n",
    "`The section description is intentionally blank.`\n",
    "\n",
    "This section is considered: Understood\n",
    "\n",
    "This section does not have any direct requirements to verify. Please refer to the subsections for analysis results."
   ]
  }
 ],
 "metadata": {
  "language_info": {
   "name": "python"
  }
 },
 "nbformat": 4,
 "nbformat_minor": 2
}
