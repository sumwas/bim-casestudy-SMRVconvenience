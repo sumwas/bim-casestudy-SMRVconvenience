{
 "cells": [
  {
   "cell_type": "markdown",
   "metadata": {},
   "source": [
    "# Section 705.8 - Openings\n",
    "## Building Code\n",
    "`Openings in exterior walls shall comply with Sections 705.8.1 through 705.8.6.`\n",
    "\n",
    "### TABLE 705.8 MAXIMUM AREA OF EXTERIOR WALL OPENINGS BASED ON FIRE SEPARATION DISTANCE AND DEGREE OF OPENING PROTECTION\n"
   ]
  }
 ],
 "metadata": {
  "language_info": {
   "name": "python"
  }
 },
 "nbformat": 4,
 "nbformat_minor": 2
}
