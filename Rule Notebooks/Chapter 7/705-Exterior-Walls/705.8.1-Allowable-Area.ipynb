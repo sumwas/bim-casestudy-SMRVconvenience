{
 "cells": [
  {
   "cell_type": "markdown",
   "metadata": {},
   "source": [
    "# Section 705.8.1 - Allowable area of openings\n",
    "## Building Code\n",
    "```\n",
    "The maximum area of unprotected and protected openings permitted in an exterior wall in any story of a building shall not exceed the percentages specified in Table 705.8.\n",
    "\n",
    "Exceptions:\n",
    "\n",
    "1. In other than Group H occupancies, unlimited unprotected openings are permitted in the first story above grade plane either:\n",
    "\n",
    "1.1. Where the wall faces a street and has a fire separation distance of more than 15 feet (4572 mm); or\n",
    "\n",
    "1.2. Where the wall faces an unoccupied space. The unoccupied space shall be on the same lot or dedicated for public use, shall be not less than 30 feet (9144 mm) in width and shall have access from a street by a posted fire lane in accordance with the International Fire Code.\n",
    "\n",
    "2. Buildings whose exterior bearing walls, exterior nonbearing walls and exterior primary structural frame are not required to be fire-resistance rated shall be permitted to have unlimited unprotected openings.\n",
    "```"
   ]
  }
 ],
 "metadata": {
  "language_info": {
   "name": "python"
  }
 },
 "nbformat": 4,
 "nbformat_minor": 2
}
