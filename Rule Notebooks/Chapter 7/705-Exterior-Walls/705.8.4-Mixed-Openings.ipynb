{
 "cells": [
  {
   "cell_type": "markdown",
   "metadata": {},
   "source": [
    "# Section 705.8.4 - Mixed openings\n",
    "## Building Code\n",
    "```\n",
    "Where both unprotected and protected openings are located in the exterior wall in any story of a building, the total area of openings shall be determined in accordance with the following:\n",
    "\n",
    "(Ap/ap) + (Au/au) ≤ 1  (Equation 7-2)\n",
    "\n",
    "\n",
    "where:\n",
    "\n",
    "Ap\t=\tActual area of protected openings, or the equivalent area of protected openings, Ae (see Section 705.7).\n",
    "ap\t=\tAllowable area of protected openings.\n",
    "Au\t=\tActual area of unprotected openings.\n",
    "au\t=\tAllowable area of unprotected openings.\n",
    "```"
   ]
  }
 ],
 "metadata": {
  "language_info": {
   "name": "python"
  }
 },
 "nbformat": 4,
 "nbformat_minor": 2
}
