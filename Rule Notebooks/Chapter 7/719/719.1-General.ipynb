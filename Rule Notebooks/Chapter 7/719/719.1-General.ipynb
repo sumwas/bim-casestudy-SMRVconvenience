{
 "cells": [
  {
   "cell_type": "markdown",
   "metadata": {},
   "source": [
    "# Section 719.1 - Thickness of plaster\n",
    "## Building Code\n",
    "`The minimum thickness of gypsum plaster or Portland cement plaster used in a fire-resistance-rated system shall be determined by the prescribed fire tests. The plaster thickness shall be measured from the face of the lath where applied to gypsum lath or metal lath.`\n",
    "\n",
    "This section is considered: Understood\n",
    "\n",
    "It is undestood that the minimum thickness of gypsum plaster or Portland cement plaster used in a fire-resistance-rated system is to be determined by the prescribed fire tests. It is further understood that the plaster thickness is to be measured from the face of the lath where applied to gypsum lath or metal lath."
   ]
  }
 ],
 "metadata": {
  "language_info": {
   "name": "python"
  }
 },
 "nbformat": 4,
 "nbformat_minor": 2
}
