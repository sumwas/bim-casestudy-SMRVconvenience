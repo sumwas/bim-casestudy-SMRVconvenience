{
 "cells": [
  {
   "cell_type": "markdown",
   "metadata": {},
   "source": [
    "# Section 707.2 - Materials\n",
    "## Building Code\n",
    "`Fire barriers shall be of materials permitted by the building type of construction.`\n",
    "\n",
    "This section is considered: Understood\n",
    "\n",
    "It is understood that Fire Barriers are to be of materials permitted by the building type of construction."
   ]
  }
 ],
 "metadata": {
  "language_info": {
   "name": "python"
  }
 },
 "nbformat": 4,
 "nbformat_minor": 2
}
