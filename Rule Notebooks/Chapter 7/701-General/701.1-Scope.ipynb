{
 "cells": [
  {
   "cell_type": "markdown",
   "metadata": {},
   "source": [
    "# Section 701.1 - Scope\n",
    "\n",
    "## Building Code\n",
    "`The provisions of this chapter shall govern the materials, systems and assemblies used for structural fire resistance and fire-resistance-rated construction separation of adjacent spaces to safeguard against the spread of fire and smoke within a building and the spread of fire to or from buildings.`\n",
    "\n",
    "This section is considered: Understood\n",
    "\n",
    "It is understood that the provisions of this chapter govern the materials, systems and assemblies used for structural fire resistance and fire-resistance-rated construction separation of adjacent spaces to safeguard against the spread of fire and smoke within a building and the spread of fire to or from buildings."
   ]
  }
 ],
 "metadata": {
  "language_info": {
   "name": "python"
  }
 },
 "nbformat": 4,
 "nbformat_minor": 2
}
