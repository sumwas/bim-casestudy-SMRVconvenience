{
 "cells": [
  {
   "cell_type": "markdown",
   "metadata": {},
   "source": [
    "# Section 701.2 - Multiple use fire assemblies\n",
    "\n",
    "## Building Code\n",
    "`Fire assemblies that serve multiple purposes in a building shall comply with all of the requirements that are applicable for each of the individual fire assemblies.`\n",
    "\n",
    "This section is considered: Understood\n",
    "\n",
    "It is understood that fire assemblies that serve multiple purposes in a building are to comply with all of the requirements that are applicable for each of the individual fire assemblies."
   ]
  }
 ],
 "metadata": {
  "language_info": {
   "name": "python"
  }
 },
 "nbformat": 4,
 "nbformat_minor": 2
}
