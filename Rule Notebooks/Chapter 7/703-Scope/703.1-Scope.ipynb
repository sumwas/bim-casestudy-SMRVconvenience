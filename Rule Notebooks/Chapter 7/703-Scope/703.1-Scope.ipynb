{
 "cells": [
  {
   "cell_type": "markdown",
   "metadata": {},
   "source": [
    "# Section 703.1 - Scope\n",
    "\n",
    "## Building Code\n",
    "`Materials prescribed herein for fire resistance shall conform to the requirements of this chapter.`\n",
    "\n",
    "This section is considered: Understood\n",
    "\n",
    "It is understood that materials prescribed herein for fire resistance are to conform to the requirements of this chapter."
   ]
  }
 ],
 "metadata": {
  "language_info": {
   "name": "python"
  }
 },
 "nbformat": 4,
 "nbformat_minor": 2
}
