{
 "cells": [
  {
   "cell_type": "markdown",
   "metadata": {},
   "source": [
    "# Section 708.1 - General\n",
    "## Building Code\n",
    "```\n",
    "The following wall assemblies shall comply with this section.\n",
    "\n",
    "1. Separation walls as required by Section 420.2 for Groups I-1, R-1, R-2 and R-3.\n",
    "\n",
    "2. Walls separating tenant spaces in covered and open mall buildings as required by Section 402.4.2.1.\n",
    "\n",
    "3. Corridor walls as required by Section 1020.1.\n",
    "\n",
    "4. Elevator lobby separation as required by Section 3006.2.\n",
    "\n",
    "5. Egress balconies as required by Section 1019.2\n",
    "```\n",
    "\n",
    "This section is considered: Understood\n",
    "\n",
    "It is understood that the wall assemblies listed are to comply with this section."
   ]
  }
 ],
 "metadata": {
  "language_info": {
   "name": "python"
  }
 },
 "nbformat": 4,
 "nbformat_minor": 2
}
